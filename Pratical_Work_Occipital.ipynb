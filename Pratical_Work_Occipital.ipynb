{
  "cells": [
    {
      "cell_type": "markdown",
      "metadata": {
        "id": "EDhV-AFx92Wy"
      },
      "source": [
        "# Imports"
      ]
    },
    {
      "cell_type": "code",
      "execution_count": null,
      "metadata": {
        "colab": {
          "base_uri": "https://localhost:8080/"
        },
        "id": "90b1X2Bw91ci",
        "outputId": "36863987-2a3c-4c4b-bddf-504269de2f14"
      },
      "outputs": [],
      "source": [
        "!pip uninstall -y scikit-learn\n",
        "!pip install scikit-learn==1.5.2"
      ]
    },
    {
      "cell_type": "code",
      "execution_count": null,
      "metadata": {
        "colab": {
          "base_uri": "https://localhost:8080/"
        },
        "id": "quXt6fxs954G",
        "outputId": "14a185f6-8bd3-40f6-8a61-9f7da767d244"
      },
      "outputs": [],
      "source": [
        "import sklearn as skl\n",
        "print(f\"New scikit-learn version: {skl.__version__}\")\n",
        "import pandas as pd\n",
        "import matplotlib.pyplot as plt\n",
        "import seaborn as sns\n",
        "import numpy as np\n",
        "from scipy import stats\n",
        "import matplotlib.pyplot as plt\n",
        "from sklearn.preprocessing import LabelBinarizer\n",
        "from sklearn.model_selection import train_test_split\n",
        "from sklearn.model_selection import cross_val_score\n",
        "from sklearn.model_selection import GridSearchCV\n",
        "from sklearn.tree import DecisionTreeRegressor\n",
        "from sklearn.metrics import confusion_matrix\n",
        "from sklearn.metrics import recall_score\n",
        "from sklearn.metrics import precision_score\n",
        "from sklearn.metrics import accuracy_score\n",
        "from sklearn.metrics import ConfusionMatrixDisplay\n",
        "from sklearn.metrics import classification_report\n",
        "from sklearn import preprocessing\n",
        "from sklearn.svm import SVC\n",
        "from sklearn.cluster import KMeans\n",
        "from sklearn.ensemble import RandomForestClassifier\n",
        "from numpy import median\n",
        "from sklearn.neural_network import MLPClassifier\n",
        "from sklearn.preprocessing import StandardScaler\n",
        "\n",
        "RANDOM_SEED = 1507"
      ]
    },
    {
      "cell_type": "markdown",
      "metadata": {
        "id": "gsexsDR8-Oi4"
      },
      "source": [
        "# Datasets"
      ]
    },
    {
      "cell_type": "code",
      "execution_count": null,
      "metadata": {
        "id": "w8M5SLJG-RAQ"
      },
      "outputs": [],
      "source": [
        "data_train = pd.read_csv('/content/sample_data/train_radiomics_hipocamp.csv')\n",
        "data_test = pd.read_csv('/content/sample_data/test_radiomics_hipocamp.csv')\n",
        "data_occ = pd.read_csv('/content/sample_data/train_radiomics_occipital_CONTROL.csv')"
      ]
    },
    {
      "cell_type": "markdown",
      "metadata": {
        "id": "KuEziCzy9_AN"
      },
      "source": [
        "# Tratamento de Dados"
      ]
    },
    {
      "cell_type": "markdown",
      "metadata": {
        "id": "wOMgSOro_oL3"
      },
      "source": [
        "**Verificação de Missing Values**"
      ]
    },
    {
      "cell_type": "code",
      "execution_count": null,
      "metadata": {
        "colab": {
          "base_uri": "https://localhost:8080/",
          "height": 458
        },
        "id": "j3dJVTE5_vj8",
        "outputId": "14b8e7c6-7ea7-4b2a-a2c1-e2ad34cd63c7"
      },
      "outputs": [],
      "source": [
        "data_train.isna().any()\n",
        "data_test.isna().any()"
      ]
    },
    {
      "cell_type": "markdown",
      "metadata": {
        "id": "5TYtzPIeAFw5"
      },
      "source": [
        "**Veirifição das Colunas com o Mesmo Valor em Todas as Entradas**"
      ]
    },
    {
      "cell_type": "code",
      "execution_count": null,
      "metadata": {
        "id": "7hpf50K-_2x8"
      },
      "outputs": [],
      "source": [
        "data_train = data_train.loc[:, (data_train.nunique() > 1)]\n",
        "data_test = data_test.loc[:, (data_test.nunique() > 1)]\n",
        "data_occ = data_occ.loc[:, (data_occ.nunique() > 1)]"
      ]
    },
    {
      "cell_type": "markdown",
      "metadata": {
        "id": "vqrPLdscBj8q"
      },
      "source": [
        "**Verificação de Linhas Duplicadas**"
      ]
    },
    {
      "cell_type": "code",
      "execution_count": null,
      "metadata": {
        "colab": {
          "base_uri": "https://localhost:8080/"
        },
        "id": "rLI7-YMCBsXn",
        "outputId": "16e3faf7-f8b9-4c4d-9683-3e9fa4280885"
      },
      "outputs": [],
      "source": [
        "print(data_train.duplicated().sum())\n",
        "print(data_test.duplicated().sum())"
      ]
    },
    {
      "cell_type": "markdown",
      "metadata": {
        "id": "FAdu5nlwBz6-"
      },
      "source": [
        "**Remoção de Colunas Irrelevantes**"
      ]
    },
    {
      "cell_type": "code",
      "execution_count": null,
      "metadata": {
        "id": "Mgye2OEOB-Qg"
      },
      "outputs": [],
      "source": [
        "columns_to_drop = [\"ID\",\"Image\", \"Mask\",'diagnostics_Image-original_Hash', 'diagnostics_Mask-original_Hash',\n",
        "                   'diagnostics_Mask-original_BoundingBox', 'diagnostics_Mask-original_CenterOfMassIndex',\n",
        "                   'diagnostics_Mask-original_CenterOfMass']\n",
        "\n",
        "data_train = data_train.drop(columns=columns_to_drop)\n",
        "data_test = data_test.drop(columns=columns_to_drop)\n",
        "data_occ = data_occ.drop(columns=columns_to_drop)"
      ]
    },
    {
      "cell_type": "markdown",
      "metadata": {
        "id": "B-ntXOYbCaX_"
      },
      "source": [
        "**Converter a Coluna *\\[Age\\]* para o tipo INT**"
      ]
    },
    {
      "cell_type": "code",
      "execution_count": null,
      "metadata": {
        "id": "kW9LuzKaCo2B"
      },
      "outputs": [],
      "source": [
        "data_train['Age'] = data_train['Age'].astype(int)\n",
        "data_test['Age'] = data_test['Age'].astype(int)\n",
        "data_occ['Age'] = data_occ['Age'].astype(int)"
      ]
    },
    {
      "cell_type": "markdown",
      "metadata": {
        "id": "Fs9BIWLqDnOz"
      },
      "source": [
        "**Converter a Coluna *\\[Transition\\]* para valores Numéricos**"
      ]
    },
    {
      "cell_type": "code",
      "execution_count": null,
      "metadata": {
        "colab": {
          "base_uri": "https://localhost:8080/"
        },
        "id": "PyE-0G4yDzeq",
        "outputId": "af497e90-a489-4456-dbe1-90f001d6f99a"
      },
      "outputs": [],
      "source": [
        "data_train[\"Transition\"] = data_train['Transition'].replace({'CN-CN':0,'CN-MCI':1,'MCI-MCI':2,'MCI-AD':3,'AD-AD':4}).astype(int)\n",
        "data_occ['Transition'] = data_occ['Transition'].replace({'CN-CN':0,'CN-MCI':1,'MCI-MCI':2,'MCI-AD':3,'AD-AD':4}).astype(int)"
      ]
    },
    {
      "cell_type": "markdown",
      "metadata": {
        "id": "aJC4zo7eEfQY"
      },
      "source": [
        "**Verificação de Valores *Outliers***"
      ]
    },
    {
      "cell_type": "code",
      "execution_count": null,
      "metadata": {
        "colab": {
          "base_uri": "https://localhost:8080/"
        },
        "id": "Ayq6dnOKEpyF",
        "outputId": "9fad4bd3-a54d-423d-fedf-497a91b0c9b8"
      },
      "outputs": [],
      "source": [
        "# Calcular IQR para cada coluna\n",
        "Q1 = data_train.quantile(0.25)\n",
        "Q3 = data_train.quantile(0.75)\n",
        "IQR = Q3 - Q1\n",
        "\n",
        "# Determinar os limites inferior e superior\n",
        "lower_bound = Q1 - 1.5 * IQR\n",
        "upper_bound = Q3 + 1.5 * IQR\n",
        "\n",
        "# Verificar outliers\n",
        "outliers = (data_train < lower_bound) | (data_train > upper_bound)\n",
        "print(outliers.sum())  # Número de outliers por coluna\n",
        "\n",
        "# Calcular IQR para cada coluna\n",
        "Q1 = data_occ.quantile(0.25)\n",
        "Q3 = data_occ.quantile(0.75)\n",
        "IQR = Q3 - Q1\n",
        "\n",
        "# Determinar os limites inferior e superior\n",
        "occ_lower_bound = Q1 - 1.5 * IQR\n",
        "occ_upper_bound = Q3 + 1.5 * IQR\n",
        "\n",
        "# Verificar outliers\n",
        "occ_outliers = (data_occ < occ_lower_bound) | (data_occ > occ_upper_bound)\n",
        "print(outliers.sum())  # Número de outliers por coluna\n"
      ]
    },
    {
      "cell_type": "markdown",
      "metadata": {
        "id": "cbJpT-goFiLG"
      },
      "source": [
        "**Remoção de Valores *Outliers***"
      ]
    },
    {
      "cell_type": "code",
      "execution_count": null,
      "metadata": {
        "colab": {
          "base_uri": "https://localhost:8080/"
        },
        "id": "0Gxt7JC6FphV",
        "outputId": "e411faec-cf27-4863-f93d-2f8f42b5f188"
      },
      "outputs": [],
      "source": [
        "# Substituir valores fora dos limites\n",
        "data_train = data_train.clip(lower=lower_bound, upper=upper_bound, axis=1)\n",
        "data_test = data_test.clip(lower=lower_bound, upper=upper_bound, axis=1)\n",
        "data_occ = data_occ.clip(lower=occ_lower_bound, upper=occ_upper_bound, axis=1)\n",
        "\n",
        "outliers = (data_train < lower_bound) | (data_train > upper_bound)\n",
        "print(outliers.sum())  # Número de outliers por coluna"
      ]
    },
    {
      "cell_type": "markdown",
      "metadata": {
        "id": "S-H9cfUpHm4a"
      },
      "source": [
        "**Verificação do *Dataset* Tratado**"
      ]
    },
    {
      "cell_type": "code",
      "execution_count": null,
      "metadata": {
        "colab": {
          "base_uri": "https://localhost:8080/",
          "height": 273
        },
        "id": "amOQ7L9AGH3-",
        "outputId": "85f9253c-3d83-484a-f4c0-9b5d02a4c2a3"
      },
      "outputs": [],
      "source": [
        "data_test.head()"
      ]
    },
    {
      "cell_type": "code",
      "execution_count": null,
      "metadata": {
        "id": "pEDRC10B6rH8"
      },
      "outputs": [],
      "source": [
        "# Align features in occipital data to match training data\n",
        "data_occ = data_occ.reindex(columns=data_train.columns, fill_value=0)"
      ]
    },
    {
      "cell_type": "code",
      "execution_count": null,
      "metadata": {
        "id": "9JUh4udovlS9"
      },
      "outputs": [],
      "source": [
        "from sklearn.metrics import classification_report, ConfusionMatrixDisplay\n",
        "\n",
        "from sklearn.model_selection import cross_val_score\n",
        "from sklearn.model_selection import GridSearchCV\n",
        "\n",
        "X_treino = data_train.drop('Transition', axis=1)\n",
        "y_treino = data_train['Transition']\n",
        "\n",
        "X_treino_occ = data_occ.drop('Transition', axis=1)\n",
        "y_treino_occ = data_occ['Transition']\n",
        "\n",
        "X_teste = data_test\n"
      ]
    },
    {
      "cell_type": "code",
      "execution_count": null,
      "metadata": {
        "id": "7nD5Lc40xkve"
      },
      "outputs": [],
      "source": [
        "from sklearn.model_selection import train_test_split\n",
        "\n",
        "X_train, X_test, y_train, y_test = train_test_split(X_treino, y_treino, test_size=0.25, random_state=2023, stratify=y_treino)"
      ]
    },
    {
      "cell_type": "markdown",
      "metadata": {
        "id": "ANWMGk1eH0wU"
      },
      "source": [
        "# Modelação"
      ]
    },
    {
      "cell_type": "code",
      "execution_count": null,
      "metadata": {
        "colab": {
          "base_uri": "https://localhost:8080/"
        },
        "id": "jG756WPjyDJO",
        "outputId": "ca52df3d-6c85-4b8e-adf3-195405ad8598"
      },
      "outputs": [],
      "source": [
        "from xgboost import XGBRegressor\n",
        "from xgboost import XGBClassifier\n",
        "from sklearn.model_selection import StratifiedKFold\n",
        "from sklearn.metrics import mean_squared_error, mean_absolute_error, r2_score\n",
        "# Criar o modelo de XGBoost\n",
        "xgb = XGBClassifier(random_state=2023, objective='multi:softprob', num_class=5)\n",
        "\n",
        "cv = StratifiedKFold(n_splits=5, shuffle=True, random_state=2023)\n",
        "\n",
        "param_grid = {\n",
        "    'learning_rate': [0.01],\n",
        "    'n_estimators': [800],\n",
        "    'max_depth': [5],\n",
        "    'gamma': [0.1],\n",
        "    'min_child_weight': [1],\n",
        "    'colsample_bytree': [1.0],\n",
        "}\n",
        "\n",
        "grid_searchXGB = GridSearchCV(xgb, param_grid, cv=cv, refit=True, verbose=3,return_train_score=True)\n",
        "grid_searchXGB.fit(X_train, y_train)\n",
        "grid_predictionXGB = grid_searchXGB.predict(X_treino_occ)\n",
        "\n",
        "print(grid_searchXGB.best_estimator_)\n",
        "\n",
        "XGB_best = grid_searchXGB.best_estimator_"
      ]
    },
    {
      "cell_type": "code",
      "execution_count": null,
      "metadata": {
        "colab": {
          "base_uri": "https://localhost:8080/"
        },
        "id": "_kh3wMslw0O_",
        "outputId": "62529aae-7f90-4727-8437-4f446bb09fce"
      },
      "outputs": [],
      "source": [
        "print(\"Performance on occipital-control data:\")\n",
        "print(classification_report(y_treino_occ, grid_predictionXGB))"
      ]
    },
    {
      "cell_type": "code",
      "execution_count": null,
      "metadata": {
        "colab": {
          "base_uri": "https://localhost:8080/"
        },
        "id": "J1xXIKYLPW6b",
        "outputId": "9449cb1d-8e68-45f0-e3a7-67f991f17a05"
      },
      "outputs": [],
      "source": [
        "cv_results = pd.DataFrame(grid_searchXGB.cv_results_)\n",
        "print(cv_results[['param_learning_rate', 'param_n_estimators',\n",
        "                  'mean_train_score', 'mean_test_score']])"
      ]
    },
    {
      "cell_type": "code",
      "execution_count": null,
      "metadata": {
        "colab": {
          "base_uri": "https://localhost:8080/"
        },
        "id": "Lajvj--XNO3F",
        "outputId": "30a7dc5d-e207-442d-d796-ff044407cd11"
      },
      "outputs": [],
      "source": [
        "print(\"Best Macro-F1 score:\", grid_searchXGB.best_score_)"
      ]
    },
    {
      "cell_type": "code",
      "execution_count": null,
      "metadata": {
        "colab": {
          "base_uri": "https://localhost:8080/",
          "height": 932
        },
        "id": "a2y3Qd95W2sN",
        "outputId": "c5362b50-34e1-4b71-aef8-4317c8b020b4"
      },
      "outputs": [],
      "source": [
        "from sklearn.model_selection import learning_curve\n",
        "import matplotlib.pyplot as plt\n",
        "\n",
        "train_sizes, train_scores, val_scores = learning_curve(\n",
        "    XGBClassifier(**grid_searchXGB.best_params_),\n",
        "    X_train, y_train, cv=5, scoring='accuracy',\n",
        "    train_sizes=[0.1, 0.3, 0.5, 0.7, 1.0], shuffle=True\n",
        ")\n",
        "\n",
        "train_scores_mean = train_scores.mean(axis=1)\n",
        "val_scores_mean = val_scores.mean(axis=1)\n",
        "\n",
        "plt.plot(train_sizes, train_scores_mean, 'o-', label=\"Training score\")\n",
        "plt.plot(train_sizes, val_scores_mean, 'o-', label=\"Validation score\")\n",
        "plt.legend(loc=\"best\")\n",
        "plt.xlabel(\"Training examples\")\n",
        "plt.ylabel(\"Score\")\n",
        "plt.title(\"Learning Curve - XGBoost\")\n",
        "plt.show()\n"
      ]
    },
    {
      "cell_type": "markdown",
      "metadata": {
        "id": "EBIVlf_djNKQ"
      },
      "source": [
        "# Converter para *CSV*"
      ]
    },
    {
      "cell_type": "code",
      "execution_count": null,
      "metadata": {
        "id": "qakb_DIGjSmB"
      },
      "outputs": [],
      "source": [
        "submission = pd.DataFrame(grid_predictionXGB, columns = [\"Transition\"])\n",
        "submission.insert(0, \"RowId\", range(1,len(grid_predictionXGB) + 1), True)\n",
        "\n",
        "print(submission)\n",
        "\n",
        "#transformação dos valores para formato escrito\n",
        "submission['Transition']= submission['Transition'].replace({0 : 'CN-CN', 1 : 'CN-MCI', 2 : 'MCI-MCI', 3 : 'MCI-AD', 4 : 'AD-AD'})\n",
        "\n",
        "print(submission)\n",
        "\n",
        "#passagem para ficheiro csv\n",
        "submission.to_csv('submission_Kaggle.csv', index=False)"
      ]
    }
  ],
  "metadata": {
    "colab": {
      "collapsed_sections": [
        "gsexsDR8-Oi4"
      ],
      "provenance": []
    },
    "kernelspec": {
      "display_name": "Python 3 (ipykernel)",
      "language": "python",
      "name": "python3"
    },
    "language_info": {
      "codemirror_mode": {
        "name": "ipython",
        "version": 3
      },
      "file_extension": ".py",
      "mimetype": "text/x-python",
      "name": "python",
      "nbconvert_exporter": "python",
      "pygments_lexer": "ipython3",
      "version": "3.12.4"
    }
  },
  "nbformat": 4,
  "nbformat_minor": 0
}
