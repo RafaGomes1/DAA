{
  "cells": [
    {
      "cell_type": "markdown",
      "metadata": {
        "id": "EDhV-AFx92Wy"
      },
      "source": [
        "# **Imports**"
      ]
    },
    {
      "cell_type": "code",
      "execution_count": null,
      "metadata": {
        "colab": {
          "base_uri": "https://localhost:8080/"
        },
        "id": "90b1X2Bw91ci",
        "outputId": "f4e5f104-a03a-479e-b8cc-41ead0dd3868"
      },
      "outputs": [],
      "source": [
        "!pip uninstall -y scikit-learn\n",
        "!pip install scikit-learn==1.5.2"
      ]
    },
    {
      "cell_type": "code",
      "execution_count": null,
      "metadata": {
        "colab": {
          "base_uri": "https://localhost:8080/"
        },
        "id": "quXt6fxs954G",
        "outputId": "21414d93-6e60-4a0d-c3ca-a229373c7616"
      },
      "outputs": [],
      "source": [
        "import sklearn as skl\n",
        "print(f\"New scikit-learn version: {skl.__version__}\")\n",
        "import pandas as pd\n",
        "import matplotlib.pyplot as plt\n",
        "import seaborn as sns\n",
        "import numpy as np\n",
        "from scipy import stats\n",
        "import matplotlib.pyplot as plt\n",
        "from sklearn.preprocessing import LabelBinarizer\n",
        "from sklearn.model_selection import train_test_split\n",
        "from sklearn.model_selection import cross_val_score\n",
        "from sklearn.model_selection import GridSearchCV\n",
        "from sklearn.tree import DecisionTreeRegressor\n",
        "from sklearn.metrics import confusion_matrix\n",
        "from sklearn.metrics import recall_score\n",
        "from sklearn.metrics import precision_score\n",
        "from sklearn.metrics import accuracy_score\n",
        "from sklearn.metrics import ConfusionMatrixDisplay\n",
        "from sklearn.metrics import classification_report\n",
        "from sklearn import preprocessing\n",
        "from sklearn.svm import SVC\n",
        "from sklearn.cluster import KMeans\n",
        "from sklearn.ensemble import RandomForestClassifier\n",
        "from numpy import median\n",
        "from sklearn.neural_network import MLPClassifier\n",
        "from sklearn.preprocessing import StandardScaler\n",
        "from sklearn.tree import DecisionTreeClassifier\n",
        "\n",
        "RANDOM_SEED = 1507"
      ]
    },
    {
      "cell_type": "markdown",
      "metadata": {
        "id": "gsexsDR8-Oi4"
      },
      "source": [
        "# **Datasets**"
      ]
    },
    {
      "cell_type": "code",
      "execution_count": null,
      "metadata": {
        "colab": {
          "base_uri": "https://localhost:8080/",
          "height": 360
        },
        "id": "w8M5SLJG-RAQ",
        "outputId": "88126602-9afe-4f3a-c219-6daec8225313"
      },
      "outputs": [],
      "source": [
        "data_train = pd.read_csv('/content/sample_data/train_radiomics_hipocamp.csv')\n",
        "data_test = pd.read_csv('/content/sample_data/test_radiomics_hipocamp.csv')\n",
        "data_occipital = pd.read_csv('/content/sample_data/train_radiomics_occipital_CONTROL.csv')\n",
        "data_occipital.head()"
      ]
    },
    {
      "cell_type": "markdown",
      "metadata": {
        "id": "vYV9wrFXbaFj"
      },
      "source": [
        "# **Análise de Dados**"
      ]
    },
    {
      "cell_type": "markdown",
      "metadata": {
        "id": "mX0X7QHqb5Uk"
      },
      "source": [
        "## Verificação de Missing Values"
      ]
    },
    {
      "cell_type": "code",
      "execution_count": null,
      "metadata": {
        "colab": {
          "base_uri": "https://localhost:8080/"
        },
        "id": "B4Apr-YZbv6j",
        "outputId": "96052e08-2162-42fa-bf46-27b049501bef"
      },
      "outputs": [],
      "source": [
        "missing_train = data_train.isna().sum()\n",
        "total_missing_train = missing_train.sum()\n",
        "print(f\"Total de missing values no dataset de treino: {total_missing_train}\")\n",
        "\n",
        "missing_test = data_test.isna().sum()\n",
        "total_missing_test = missing_test.sum()\n",
        "print(f\"\\nTotal de missing values no dataset de teste: {total_missing_test}\")"
      ]
    },
    {
      "cell_type": "markdown",
      "metadata": {
        "id": "SaJbbTZqc4yD"
      },
      "source": [
        "## Veirifição das Colunas com o Mesmo Valor em Todas as Entradas"
      ]
    },
    {
      "cell_type": "code",
      "execution_count": null,
      "metadata": {
        "colab": {
          "base_uri": "https://localhost:8080/"
        },
        "id": "orCjCYWzdDoy",
        "outputId": "2cd451df-019e-430b-bf11-b595614f57f3"
      },
      "outputs": [],
      "source": [
        "colunas_mesmos_valores_train = data_train.loc[:, data_train.nunique() == 1].columns\n",
        "print(\"Colunas com todas as entradas iguais no dataset de treino:\")\n",
        "print(colunas_mesmos_valores_train)\n",
        "\n",
        "colunas_mesmos_valores_test = data_test.loc[:, data_test.nunique() == 1].columns\n",
        "print(\"Colunas com todas as entradas iguais no dataset de teste:\")\n",
        "print(colunas_mesmos_valores_test)"
      ]
    },
    {
      "cell_type": "markdown",
      "metadata": {
        "id": "hu29FMx8i4i_"
      },
      "source": [
        "## Verificação de Linhas Duplicadas"
      ]
    },
    {
      "cell_type": "code",
      "execution_count": null,
      "metadata": {
        "colab": {
          "base_uri": "https://localhost:8080/"
        },
        "id": "W1RR0WOOi23p",
        "outputId": "e85e7be5-6191-4774-b15b-d3faa7e2ee71"
      },
      "outputs": [],
      "source": [
        "linhas_duplicadas_train = data_train.duplicated().sum()\n",
        "print(f\"Número de linhas duplicadas no dataset treino: {linhas_duplicadas_train}\")\n",
        "\n",
        "linhas_duplicadas_test = data_test.duplicated().sum()\n",
        "print(f\"Número de linhas duplicadas no dataset teste: {linhas_duplicadas_test}\")"
      ]
    },
    {
      "cell_type": "markdown",
      "metadata": {
        "id": "aRTj-10QjV2d"
      },
      "source": [
        "## Verificação de Colunas com Entradas Alfanuméricas"
      ]
    },
    {
      "cell_type": "code",
      "execution_count": null,
      "metadata": {
        "colab": {
          "base_uri": "https://localhost:8080/"
        },
        "id": "rTx0GzOcj5hI",
        "outputId": "15d6e6e8-fa6c-4bd1-9f7c-5b761597dd45"
      },
      "outputs": [],
      "source": [
        "colunas_categoricas_train = data_train.select_dtypes(include=['object', 'category']).shape[1]\n",
        "print(f\"Colunas categóricas no dataset treino: {colunas_categoricas_train}\")\n",
        "\n",
        "colunas_categoricas_test = data_test.select_dtypes(include=['object', 'category']).shape[1]\n",
        "print(f\"Colunas categóricas no dataset teste: {colunas_categoricas_test}\")"
      ]
    },
    {
      "cell_type": "markdown",
      "metadata": {
        "id": "80_1qYai9ono"
      },
      "source": [
        "## Verificação de Valores *Outliers*"
      ]
    },
    {
      "cell_type": "code",
      "execution_count": null,
      "metadata": {
        "colab": {
          "base_uri": "https://localhost:8080/"
        },
        "id": "8Zew_6ak9twU",
        "outputId": "e797faaf-5535-42f1-95e1-83fdd4aba2c0"
      },
      "outputs": [],
      "source": [
        "# Calcular IQR para cada coluna\n",
        "Q1 = data_train.quantile(0.25)\n",
        "Q3 = data_train.quantile(0.75)\n",
        "IQR = Q3 - Q1\n",
        "\n",
        "# Determinar os limites inferior e superior\n",
        "lower_bound = Q1 - 1.5 * IQR\n",
        "upper_bound = Q3 + 1.5 * IQR\n",
        "\n",
        "# Verificar outliers\n",
        "outliers = (data_train < lower_bound) | (data_train > upper_bound)\n",
        "print(outliers.sum())  # Número de outliers por coluna"
      ]
    },
    {
      "cell_type": "markdown",
      "metadata": {
        "id": "mZr8HOrk7O8r"
      },
      "source": [
        "## *Sex* - Gráfico de Barras"
      ]
    },
    {
      "cell_type": "code",
      "execution_count": null,
      "metadata": {
        "colab": {
          "base_uri": "https://localhost:8080/",
          "height": 607
        },
        "id": "A62N9I0n7Rci",
        "outputId": "5d916324-cb8e-4467-b801-982253a50e82"
      },
      "outputs": [],
      "source": [
        "contagem_sex = data_train['Sex'].value_counts()\n",
        "\n",
        "# Definir rótulos e valores\n",
        "labels = ['Homens', 'Mulheres']  # Ajusta conforme os valores na coluna 'Sex'\n",
        "valores = contagem_sex.values\n",
        "\n",
        "# Criar o gráfico de barras\n",
        "plt.figure(figsize=(8, 6))  # Tamanho do gráfico\n",
        "plt.bar(labels, valores, color=['blue', 'pink'], edgecolor='black')\n",
        "\n",
        "# Adicionar rótulos e título\n",
        "plt.xlabel(\"Género\", fontsize=12)\n",
        "plt.ylabel(\"Quantidade\", fontsize=12)\n",
        "plt.title(\"Distribuição de Homens e Mulheres\", fontsize=14)\n",
        "\n",
        "# Adicionar os valores em cima das barras\n",
        "for i, v in enumerate(valores):\n",
        "    plt.text(i, v + 0.5, str(v), ha='center', fontsize=10)\n",
        "\n",
        "# Mostrar o gráfico\n",
        "plt.tight_layout()  # Ajustar o layout\n",
        "plt.show()"
      ]
    },
    {
      "cell_type": "markdown",
      "metadata": {
        "id": "yNFqx5Vj6431"
      },
      "source": [
        "## *Sex* - Pie Chart"
      ]
    },
    {
      "cell_type": "code",
      "execution_count": null,
      "metadata": {
        "colab": {
          "base_uri": "https://localhost:8080/"
        },
        "id": "as5cDEZ068fa",
        "outputId": "1daf817d-6968-4455-9b02-c6941628f6a5"
      },
      "outputs": [],
      "source": [
        "contagem_sex = data_train['Sex'].value_counts()\n",
        "\n",
        "\n",
        "labels = ['Homens', 'Mulheres']\n",
        "\n",
        "plt.figure(figsize=(8, 8))\n",
        "plt.pie(contagem_sex, labels=labels, autopct='%1.1f%%', startangle=90, colors=['blue', 'pink'])\n",
        "plt.title(\"Distribuição de Homens e Mulheres\")\n",
        "plt.show()"
      ]
    },
    {
      "cell_type": "markdown",
      "metadata": {
        "id": "_ZnAOEA74J4J"
      },
      "source": [
        "## *Transition* - Gráfico de Barras"
      ]
    },
    {
      "cell_type": "code",
      "execution_count": null,
      "metadata": {
        "colab": {
          "base_uri": "https://localhost:8080/"
        },
        "id": "uZbXSXL74PxX",
        "outputId": "4f24e647-423b-409c-f8b8-24bddadf0996"
      },
      "outputs": [],
      "source": [
        "contagem_transitions = data_train['Transition'].value_counts()\n",
        "\n",
        "plt.figure(figsize=(10, 6))  # Tamanho do gráfico\n",
        "plt.bar(contagem_transitions.index, contagem_transitions.values, color='skyblue', edgecolor='black')\n",
        "\n",
        "plt.xlabel(\"Categorias em 'Transition'\", fontsize=12)\n",
        "plt.ylabel(\"Quantidade\", fontsize=12)\n",
        "plt.title(\"Distribuição das Categorias em 'Transition'\", fontsize=14)\n",
        "plt.xticks(rotation=45)  # Rodar os rótulos para melhor legibilidade\n",
        "plt.tight_layout()  # Ajustar layout para evitar cortes\n",
        "\n",
        "for i, v in enumerate(contagem_transitions.values):\n",
        "    plt.text(i, v + 0.5, str(v), ha='center', fontsize=10)\n",
        "\n",
        "plt.show()"
      ]
    },
    {
      "cell_type": "markdown",
      "metadata": {
        "id": "E7mp-pj74d50"
      },
      "source": [
        "## *Transition* - Pie Chart"
      ]
    },
    {
      "cell_type": "code",
      "execution_count": null,
      "metadata": {
        "colab": {
          "base_uri": "https://localhost:8080/"
        },
        "id": "3cK-thp44jx6",
        "outputId": "89019d97-dbd5-47bb-c413-8cbf9c875ada"
      },
      "outputs": [],
      "source": [
        "contagem_transitions = data_train['Transition'].value_counts()\n",
        "\n",
        "plt.figure(figsize=(10, 6))  # Tamanho do gráfico\n",
        "plt.pie(contagem_transitions, labels=contagem_transitions.index, autopct='%1.1f%%', startangle=90)\n",
        "plt.title(\"Distribuição das Categorias em 'Transition'\")\n",
        "plt.show()"
      ]
    },
    {
      "cell_type": "markdown",
      "metadata": {
        "id": "T9RTgtqQJ2jf"
      },
      "source": [
        "## Relação entre *Sex* e *Transition*"
      ]
    },
    {
      "cell_type": "code",
      "execution_count": null,
      "metadata": {
        "colab": {
          "base_uri": "https://localhost:8080/",
          "height": 607
        },
        "id": "BeZQp6J2J9f9",
        "outputId": "4205fe47-603e-47d9-c023-c2f15848e167"
      },
      "outputs": [],
      "source": [
        "# Criar o gráfico de barras agrupadas\n",
        "plt.figure(figsize=(10, 6))  # Tamanho do gráfico\n",
        "sns.countplot(data=data_train, x='Transition', hue='Sex', palette='viridis')\n",
        "\n",
        "# Adicionar rótulos e título\n",
        "plt.xlabel(\"Transition\", fontsize=12)\n",
        "plt.ylabel(\"Count\", fontsize=12)\n",
        "plt.title(\"Relação entre Sex e Transition\", fontsize=14)\n",
        "plt.legend(title=\"Sex\", labels=[\"Mulheres\", \"Homens\"])\n",
        "plt.tight_layout()\n",
        "\n",
        "# Mostrar o gráfico\n",
        "plt.show()\n",
        "\n",
        "# Contar os valores 0 e 1 na coluna 'Sex'\n",
        "contagem_sex = data_train['Sex'].value_counts()"
      ]
    },
    {
      "cell_type": "markdown",
      "metadata": {
        "id": "KuEziCzy9_AN"
      },
      "source": [
        "# **Tratamento de Dados**"
      ]
    },
    {
      "cell_type": "markdown",
      "metadata": {
        "id": "5TYtzPIeAFw5"
      },
      "source": [
        "## Remoção das Colunas com o Mesmo Valor em Todas as Entradas"
      ]
    },
    {
      "cell_type": "code",
      "execution_count": null,
      "metadata": {
        "id": "7hpf50K-_2x8"
      },
      "outputs": [],
      "source": [
        "data_train = data_train.loc[:, (data_train.nunique() > 1)]\n",
        "data_test = data_test.loc[:, (data_test.nunique() > 1)]"
      ]
    },
    {
      "cell_type": "markdown",
      "metadata": {
        "id": "FAdu5nlwBz6-"
      },
      "source": [
        "## Remoção de Colunas com Entradas Alfanuméricas"
      ]
    },
    {
      "cell_type": "code",
      "execution_count": null,
      "metadata": {
        "colab": {
          "base_uri": "https://localhost:8080/",
          "height": 339
        },
        "id": "Mgye2OEOB-Qg",
        "outputId": "2302f7e5-fefb-4de7-f44f-f175ee8d2d5d"
      },
      "outputs": [],
      "source": [
        "columns_to_drop = [\"ID\",\"Image\", \"Mask\",'diagnostics_Image-original_Hash', 'diagnostics_Mask-original_Hash',\n",
        "                   'diagnostics_Mask-original_BoundingBox', 'diagnostics_Mask-original_CenterOfMassIndex',\n",
        "                   'diagnostics_Mask-original_CenterOfMass']\n",
        "\n",
        "data_train = data_train.drop(columns=columns_to_drop)\n",
        "data_test = data_test.drop(columns=columns_to_drop)"
      ]
    },
    {
      "cell_type": "markdown",
      "metadata": {
        "id": "B-ntXOYbCaX_"
      },
      "source": [
        "## Converter a Coluna *\\[Age\\]* para o tipo INT"
      ]
    },
    {
      "cell_type": "code",
      "execution_count": null,
      "metadata": {
        "id": "kW9LuzKaCo2B"
      },
      "outputs": [],
      "source": [
        "data_train['Age'] = data_train['Age'].astype(int)\n",
        "data_test['Age'] = data_test['Age'].astype(int)"
      ]
    },
    {
      "cell_type": "markdown",
      "metadata": {
        "id": "Fs9BIWLqDnOz"
      },
      "source": [
        "## Converter a Coluna *\\[Transition\\]* para valores Numéricos"
      ]
    },
    {
      "cell_type": "code",
      "execution_count": null,
      "metadata": {
        "id": "PyE-0G4yDzeq"
      },
      "outputs": [],
      "source": [
        "data_train[\"Transition\"] = data_train['Transition'].replace({'CN-CN':0,'CN-MCI':1,'MCI-MCI':2,'MCI-AD':3,'AD-AD':4}).astype(int)"
      ]
    },
    {
      "cell_type": "markdown",
      "metadata": {
        "id": "cbJpT-goFiLG"
      },
      "source": [
        "## Remoção de Valores *Outliers*"
      ]
    },
    {
      "cell_type": "code",
      "execution_count": null,
      "metadata": {
        "colab": {
          "base_uri": "https://localhost:8080/"
        },
        "id": "0Gxt7JC6FphV",
        "outputId": "ea545e72-7dd4-4fcc-a0d9-272528708aeb"
      },
      "outputs": [],
      "source": [
        "# Substituir valores fora dos limites\n",
        "data_train = data_train.clip(lower=lower_bound, upper=upper_bound, axis=1)\n",
        "data_test = data_test.clip(lower=lower_bound, upper=upper_bound, axis=1)\n",
        "\n",
        "outliers = (data_train < lower_bound) | (data_train > upper_bound)\n",
        "print(outliers.sum())  # Número de outliers por coluna"
      ]
    },
    {
      "cell_type": "markdown",
      "metadata": {
        "id": "S-H9cfUpHm4a"
      },
      "source": [
        "# **Análise do *Dataset* Tratado**"
      ]
    },
    {
      "cell_type": "code",
      "execution_count": null,
      "metadata": {
        "colab": {
          "base_uri": "https://localhost:8080/",
          "height": 343
        },
        "id": "amOQ7L9AGH3-",
        "outputId": "7aa9f8e1-8023-41b7-8d50-d589e3b3cc85"
      },
      "outputs": [],
      "source": [
        "num_linhas_train = data_train.shape[0]\n",
        "print(f\"Número de linhas no dataset de treino: {num_linhas_train}\")\n",
        "\n",
        "num_colunas_train = data_train.shape[1]\n",
        "print(f\"Número de colunas no dataset de treino: {num_colunas_train}\")\n",
        "\n",
        "num_linhas_test = data_test.shape[0]\n",
        "print(f\"Número de linhas no dataset de teste: {num_linhas_test}\")\n",
        "\n",
        "num_colunas_test = data_test.shape[1]\n",
        "print(f\"Número de colunas no dataset de teste: {num_colunas_test}\")\n",
        "\n",
        "data_train.head()"
      ]
    },
    {
      "cell_type": "markdown",
      "metadata": {
        "id": "xk2NcO2N-dvb"
      },
      "source": [
        "# **Feature Selection**"
      ]
    },
    {
      "cell_type": "code",
      "execution_count": null,
      "metadata": {
        "id": "9JUh4udovlS9"
      },
      "outputs": [],
      "source": [
        "from sklearn.metrics import classification_report, ConfusionMatrixDisplay\n",
        "\n",
        "from sklearn.model_selection import cross_val_score\n",
        "from sklearn.model_selection import GridSearchCV\n",
        "\n",
        "X_treino = data_train.drop('Transition', axis=1)\n",
        "y_treino = data_train['Transition']\n",
        "\n",
        "X_teste = data_test\n"
      ]
    },
    {
      "cell_type": "code",
      "execution_count": null,
      "metadata": {
        "id": "7nD5Lc40xkve"
      },
      "outputs": [],
      "source": [
        "from sklearn.model_selection import train_test_split\n",
        "\n",
        "X_train, X_test, y_train, y_test = train_test_split(X_treino, y_treino, test_size=0.3, random_state=2023, stratify=y_treino)"
      ]
    },
    {
      "cell_type": "markdown",
      "metadata": {
        "id": "ANWMGk1eH0wU"
      },
      "source": [
        "# **Modelação**"
      ]
    },
    {
      "cell_type": "markdown",
      "metadata": {
        "id": "8eg-iswlQiDT"
      },
      "source": [
        "## **Random Forest Classifier**"
      ]
    },
    {
      "cell_type": "code",
      "execution_count": null,
      "metadata": {
        "id": "OuThmb56QpHC"
      },
      "outputs": [],
      "source": [
        "from sklearn.metrics import make_scorer, f1_score\n",
        "\n",
        "# Definir o modelo Random Forest\n",
        "rf = RandomForestClassifier(random_state=RANDOM_SEED)\n",
        "\n",
        "scorer = make_scorer(f1_score, average='macro')\n",
        "\n",
        "# Definir o grid de parâmetros\n",
        "param_grid = {\n",
        "    'n_estimators': [50, 100, 200, 300],\n",
        "    'max_depth': [None, 10, 20, 30],\n",
        "    'min_samples_split': [2, 5, 10, 20],\n",
        "    'min_samples_leaf': [1, 2, 5, 10],\n",
        "    'max_features': ['sqrt', 'log2'],  # Corrigir para 'sqrt' ou 'log2'\n",
        "    'bootstrap': [True, False],\n",
        "    'class_weight': ['balanced', None]  # Para tratar desbalanceamento de classes\n",
        "}\n",
        "\n",
        "# Usar GridSearchCV para encontrar os melhores parâmetros\n",
        "grid_search = GridSearchCV(estimator=rf, param_grid=param_grid, scoring=scorer, cv=4, n_jobs=-1, verbose=1)\n",
        "grid_search.fit(X_train, y_train)\n",
        "\n",
        "# Exibir os melhores parâmetros encontrados\n",
        "print(\"Melhores parâmetros encontrados: \", grid_search.best_params_)\n",
        "\n",
        "# Usar os melhores parâmetros para fazer previsões\n",
        "best_rf = grid_search.best_estimator_\n",
        "predictions = best_rf.predict(X_test)\n",
        "\n",
        "# Avaliar a performance\n",
        "print(classification_report(y_test, predictions))"
      ]
    },
    {
      "cell_type": "markdown",
      "metadata": {
        "id": "ukDiIDi_5i4x"
      },
      "source": [
        "## MLP"
      ]
    },
    {
      "cell_type": "code",
      "execution_count": null,
      "metadata": {
        "colab": {
          "base_uri": "https://localhost:8080/"
        },
        "id": "yBp5RD5h5m4T",
        "outputId": "e7992a30-3918-4487-dbc8-9509ea0db5f8"
      },
      "outputs": [],
      "source": [
        "import torch.nn as nn\n",
        "import torch.optim as optim\n",
        "from sklearn.model_selection import train_test_split\n",
        "from sklearn.preprocessing import StandardScaler\n",
        "from sklearn.metrics import accuracy_score, classification_report\n",
        "import torch.nn.functional as F\n",
        "from torch.optim.lr_scheduler import ReduceLROnPlateau\n",
        "import numpy as np\n",
        "import random\n",
        "from itertools import product\n",
        "import torch\n",
        "\n",
        "# Fixar a seed\n",
        "RANDOM_SEED = 42\n",
        "torch.manual_seed(RANDOM_SEED)\n",
        "np.random.seed(RANDOM_SEED)\n",
        "random.seed(RANDOM_SEED)\n",
        "torch.backends.cudnn.deterministic = True\n",
        "torch.backends.cudnn.benchmark = False\n",
        "\n",
        "# Escalando os dados\n",
        "scaler = StandardScaler()\n",
        "X_train = scaler.fit_transform(X_train)\n",
        "X_test = scaler.transform(X_test)\n",
        "\n",
        "# Convertendo os dados para tensores do PyTorch\n",
        "X_train_tensor = torch.FloatTensor(X_train)\n",
        "y_train_tensor = torch.LongTensor(y_train.values)\n",
        "X_test_tensor = torch.FloatTensor(X_test)\n",
        "y_test_tensor = torch.LongTensor(y_test.values)\n",
        "\n",
        "# Definindo o modelo MLP classificado\n",
        "class MLP(nn.Module):\n",
        "    def __init__(self, input_size, hidden_sizes, output_size, dropout_rate):\n",
        "        super(MLP, self).__init__()\n",
        "        self.fc1 = nn.Linear(input_size, hidden_sizes[0])\n",
        "        self.bn1 = nn.BatchNorm1d(hidden_sizes[0])  # Batch Normalization\n",
        "        self.fc2 = nn.Linear(hidden_sizes[0], hidden_sizes[1])\n",
        "        self.bn2 = nn.BatchNorm1d(hidden_sizes[1])  # Batch Normalization\n",
        "        self.fc3 = nn.Linear(hidden_sizes[1], output_size)\n",
        "        self.dropout = nn.Dropout(dropout_rate)\n",
        "        self.relu = nn.ReLU()\n",
        "\n",
        "    def forward(self, x):\n",
        "        x = self.fc1(x)\n",
        "        x = self.bn1(x)\n",
        "        x = self.relu(x)\n",
        "        x = self.dropout(x)\n",
        "        x = self.fc2(x)\n",
        "        x = self.bn2(x)\n",
        "        x = self.relu(x)\n",
        "        x = self.dropout(x)\n",
        "        x = self.fc3(x)\n",
        "        return x  # Sem Softmax\n",
        "\n",
        "# Definir hiperparâmetros para o GridSearch\n",
        "param_grid = {\n",
        "    'hidden_sizes': [[256, 128], [128, 64], [64, 32]],\n",
        "    'lr': [0.001, 0.005, 0.01],\n",
        "    'dropout_rate': [0.2, 0.3, 0.4],\n",
        "    'weight_decay': [1e-4, 1e-5]\n",
        "}\n",
        "\n",
        "# Criar combinações de hiperparâmetros\n",
        "combinations = list(product(*param_grid.values()))\n",
        "best_accuracy = 0\n",
        "best_params = None\n",
        "\n",
        "# Loop para GridSearch\n",
        "for params in combinations:\n",
        "    hidden_sizes, lr, dropout_rate, weight_decay = params\n",
        "    model = MLP(X_train.shape[1], hidden_sizes, len(set(y_train)), dropout_rate)\n",
        "\n",
        "    # Inicializar a função de perda e o otimizador\n",
        "    criterion = nn.CrossEntropyLoss()\n",
        "    optimizer = optim.SGD(model.parameters(), lr=lr, momentum=0.9, weight_decay=weight_decay)\n",
        "\n",
        "    # Treinamento do modelo\n",
        "    epochs = 100\n",
        "    for epoch in range(epochs):\n",
        "        model.train()\n",
        "        optimizer.zero_grad()\n",
        "        outputs = model(X_train_tensor)\n",
        "        loss = criterion(outputs, y_train_tensor)\n",
        "        loss.backward()\n",
        "        optimizer.step()\n",
        "\n",
        "    # Avaliação do modelo\n",
        "    model.eval()\n",
        "    with torch.no_grad():\n",
        "        y_pred_tensor = model(X_test_tensor)\n",
        "        y_pred = torch.argmax(y_pred_tensor, axis=1).numpy()\n",
        "\n",
        "    # Calcular a accuracy\n",
        "    acc = accuracy_score(y_test, y_pred)\n",
        "    print(f\"Params: {params}, Accuracy: {acc:.4f}\")\n",
        "\n",
        "    # Verificar se é a melhor accuracy\n",
        "    if acc > best_accuracy:\n",
        "        best_accuracy = acc\n",
        "        best_params = params\n",
        "\n",
        "# Imprimir os melhores parâmetros\n",
        "print(\"\\nMelhores Parâmetros:\", best_params)\n",
        "print(\"Melhor Accuracy:\", best_accuracy)"
      ]
    },
    {
      "cell_type": "code",
      "execution_count": null,
      "metadata": {
        "colab": {
          "base_uri": "https://localhost:8080/"
        },
        "id": "5lg4WFetzAgC",
        "outputId": "f824cdbd-260c-4fda-f194-052446a906f1"
      },
      "outputs": [],
      "source": [
        "# Utilizar os melhores hiperparâmetros encontrados\n",
        "hidden_sizes = [64, 32]\n",
        "lr = 0.001\n",
        "dropout_rate = 0.3\n",
        "weight_decay = 1e-5\n",
        "\n",
        "# Inicializar o modelo com os melhores parâmetros\n",
        "model = MLP(X_train.shape[1], hidden_sizes, len(set(y_train)), dropout_rate)\n",
        "\n",
        "# Inicializar a função de perda e o otimizador\n",
        "criterion = nn.CrossEntropyLoss()\n",
        "optimizer = optim.SGD(model.parameters(), lr=lr, momentum=0.9, weight_decay=weight_decay)\n",
        "\n",
        "# Treinamento do modelo\n",
        "epochs = 300  # Número de épocas pode ser ajustado\n",
        "train_losses = []\n",
        "test_losses = []\n",
        "\n",
        "best_val_loss = float('inf')\n",
        "patience = 30\n",
        "trigger_times = 0\n",
        "\n",
        "for epoch in range(epochs):\n",
        "    model.train()\n",
        "    optimizer.zero_grad()\n",
        "    outputs = model(X_train_tensor)\n",
        "    loss = criterion(outputs, y_train_tensor)\n",
        "    loss.backward()\n",
        "    optimizer.step()\n",
        "\n",
        "    # Salvar a perda de treinamento\n",
        "    train_losses.append(loss.item())\n",
        "\n",
        "    # Modo de validação\n",
        "    model.eval()\n",
        "    with torch.no_grad():\n",
        "        val_outputs = model(X_test_tensor)\n",
        "        val_loss = criterion(val_outputs, y_test_tensor)\n",
        "        test_losses.append(val_loss.item())\n",
        "\n",
        "    # Early stopping\n",
        "    if val_loss.item() < best_val_loss:\n",
        "        best_val_loss = val_loss.item()\n",
        "        trigger_times = 0\n",
        "    else:\n",
        "        trigger_times += 1\n",
        "        if trigger_times >= patience:\n",
        "            print(f\"Early stopping at epoch {epoch + 1}\")\n",
        "            break\n",
        "\n",
        "    # Log de progresso\n",
        "    if (epoch + 1) % 20 == 0:\n",
        "        print(f\"Epoch [{epoch + 1}/{epochs}], Train Loss: {loss.item():.4f}, Test Loss: {val_loss.item():.4f}\")\n",
        "\n",
        "# Avaliação do modelo\n",
        "model.eval()\n",
        "with torch.no_grad():\n",
        "    y_pred_tensor = model(X_test_tensor)\n",
        "    y_pred = torch.argmax(y_pred_tensor, axis=1).numpy()\n",
        "\n",
        "# Relatório de classificação\n",
        "print(\"Accuracy:\", accuracy_score(y_test, y_pred))\n",
        "print(\"Relatório de Classificação:\\n\", classification_report(y_test, y_pred))"
      ]
    },
    {
      "cell_type": "markdown",
      "metadata": {
        "id": "RlUJxbUg5ci6"
      },
      "source": [
        "## XGBoost"
      ]
    },
    {
      "cell_type": "code",
      "execution_count": null,
      "metadata": {
        "colab": {
          "base_uri": "https://localhost:8080/",
          "height": 110
        },
        "id": "jG756WPjyDJO",
        "outputId": "bbef63c4-9850-4932-9d1d-d5644654342a"
      },
      "outputs": [],
      "source": [
        "from xgboost import XGBRegressor\n",
        "from xgboost import XGBClassifier\n",
        "from sklearn.model_selection import StratifiedKFold\n",
        "from sklearn.metrics import mean_squared_error, mean_absolute_error, r2_score\n",
        "# Criar o modelo de XGBoost\n",
        "xgb = XGBClassifier(random_state=2023, objective='multi:softprob', num_class=5)\n",
        "\n",
        "cv = StratifiedKFold(n_splits=5, shuffle=True, random_state=2023)\n",
        "\n",
        "param_grid = {\n",
        "    'learning_rate': [0.005],\n",
        "    'n_estimators': [1000],\n",
        "    'max_depth': [8],\n",
        "    'gamma': [0.1],\n",
        "    'min_child_weight': [1],\n",
        "    'colsample_bytree': [1.0],\n",
        "    'reg_alpha': [0.2],\n",
        "    'reg_lambda': [2]\n",
        "}\n",
        "\n",
        "\"\"\"\n",
        "Valores para o mitigar o overfit\n",
        "param_grid = {\n",
        "  'learning_rate': [0.005],\n",
        "  'n_estimators': [1000],\n",
        "  'max_depth': [4, 5],\n",
        "  'gamma': [0.1, 0.3],\n",
        "  'min_child_weight': [1, 3],\n",
        "  'colsample_bytree': [0.8],\n",
        "  'subsample': [0.8],\n",
        "  'reg_alpha': [0.2, 1.0],\n",
        "  'reg_lambda': [2, 5]\n",
        "}\"\"\"\n",
        "\n",
        "\"\"\"\n",
        "Valores para o melhor score privado\n",
        "param_grid = {\n",
        "    'learning_rate': [0.01],\n",
        "    'n_estimators': [800],\n",
        "    'max_depth': [5],\n",
        "    'gamma': [0.1],\n",
        "    'min_child_weight': [1],\n",
        "    'colsample_bytree': [1.0],\n",
        "}\"\"\"\n",
        "\n",
        "grid_searchXGB = GridSearchCV(xgb, param_grid, cv=cv, refit=True, verbose=3,return_train_score=True)\n",
        "grid_searchXGB.fit(X_train, y_train)\n",
        "grid_predictionXGB = grid_searchXGB.predict(data_test)\n",
        "\n",
        "print(grid_searchXGB.best_estimator_)\n",
        "\n",
        "XGB_best = grid_searchXGB.best_estimator_"
      ]
    },
    {
      "cell_type": "markdown",
      "metadata": {
        "id": "EBIVlf_djNKQ"
      },
      "source": [
        "# **Converter para *CSV***"
      ]
    },
    {
      "cell_type": "code",
      "execution_count": null,
      "metadata": {
        "colab": {
          "base_uri": "https://localhost:8080/"
        },
        "id": "qakb_DIGjSmB",
        "outputId": "1bff3fdd-9be5-41e3-8d76-984df8e325df"
      },
      "outputs": [],
      "source": [
        "submission = pd.DataFrame(grid_predictionXGB, columns = [\"Transition\"])\n",
        "submission.insert(0, \"RowId\", range(1,len(grid_predictionXGB) + 1), True)\n",
        "\n",
        "print(submission)\n",
        "\n",
        "#transformação dos valores para formato escrito\n",
        "submission['Transition']= submission['Transition'].replace({0 : 'CN-CN', 1 : 'CN-MCI', 2 : 'MCI-MCI', 3 : 'MCI-AD', 4 : 'AD-AD'})\n",
        "\n",
        "print(submission)\n",
        "\n",
        "#passagem para ficheiro csv\n",
        "submission.to_csv('submission_Kaggle.csv', index=False)"
      ]
    }
  ],
  "metadata": {
    "colab": {
      "collapsed_sections": [
        "EDhV-AFx92Wy",
        "gsexsDR8-Oi4",
        "vYV9wrFXbaFj",
        "mX0X7QHqb5Uk",
        "SaJbbTZqc4yD",
        "hu29FMx8i4i_",
        "aRTj-10QjV2d",
        "80_1qYai9ono",
        "mZr8HOrk7O8r",
        "yNFqx5Vj6431",
        "_ZnAOEA74J4J",
        "E7mp-pj74d50",
        "T9RTgtqQJ2jf",
        "KuEziCzy9_AN",
        "5TYtzPIeAFw5",
        "FAdu5nlwBz6-",
        "B-ntXOYbCaX_",
        "Fs9BIWLqDnOz",
        "cbJpT-goFiLG",
        "S-H9cfUpHm4a",
        "8eg-iswlQiDT",
        "RlUJxbUg5ci6",
        "EBIVlf_djNKQ"
      ],
      "provenance": []
    },
    "kernelspec": {
      "display_name": "Python 3",
      "language": "python",
      "name": "python3"
    },
    "language_info": {
      "codemirror_mode": {
        "name": "ipython",
        "version": 3
      },
      "file_extension": ".py",
      "mimetype": "text/x-python",
      "name": "python",
      "nbconvert_exporter": "python",
      "pygments_lexer": "ipython3",
      "version": "3.11.9"
    }
  },
  "nbformat": 4,
  "nbformat_minor": 0
}
